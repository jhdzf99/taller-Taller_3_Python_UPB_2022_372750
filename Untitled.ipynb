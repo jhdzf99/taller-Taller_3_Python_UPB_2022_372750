{
 "cells": [
  {
   "cell_type": "code",
   "execution_count": 4,
   "id": "bbc4aa61",
   "metadata": {},
   "outputs": [],
   "source": [
    "# from hmac import trans_36\n",
    "import cv2 as cv\n",
    "import Transformations as tf\n",
    "import matplotlib as mp"
   ]
  },
  {
   "cell_type": "code",
   "execution_count": 6,
   "id": "966284da",
   "metadata": {},
   "outputs": [
    {
     "name": "stdout",
     "output_type": "stream",
     "text": [
      "Ingrese la dirección de la primera imagen: imagen_1.jpg\n",
      "Ingrese la dirección de la segunda imagen: logotipo_2.png\n"
     ]
    }
   ],
   "source": [
    "#img1= cv.open\n",
    "image1N = input(\"Ingrese la dirección de la primera imagen: \")\n",
    "image2N = input(\"Ingrese la dirección de la segunda imagen: \")"
   ]
  },
  {
   "cell_type": "code",
   "execution_count": 7,
   "id": "bc50a52a",
   "metadata": {},
   "outputs": [],
   "source": [
    "img_1 = cv.imread(image1N)\n",
    "img_2 = cv.imread(image2N)\n",
    "key, a = tf.start(img_1, img_2)\n",
    "cv.imshow(key, a)"
   ]
  },
  {
   "cell_type": "code",
   "execution_count": null,
   "id": "d06168a7",
   "metadata": {},
   "outputs": [],
   "source": []
  }
 ],
 "metadata": {
  "kernelspec": {
   "display_name": "Python 3 (ipykernel)",
   "language": "python",
   "name": "python3"
  },
  "language_info": {
   "codemirror_mode": {
    "name": "ipython",
    "version": 3
   },
   "file_extension": ".py",
   "mimetype": "text/x-python",
   "name": "python",
   "nbconvert_exporter": "python",
   "pygments_lexer": "ipython3",
   "version": "3.9.12"
  }
 },
 "nbformat": 4,
 "nbformat_minor": 5
}
